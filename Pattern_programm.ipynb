{
 "cells": [
  {
   "cell_type": "code",
   "execution_count": 1,
   "id": "6fd2fdc7-85ae-4173-8b52-ceb81d669ce9",
   "metadata": {},
   "outputs": [
    {
     "name": "stdout",
     "output_type": "stream",
     "text": [
      "* \n",
      "* * \n",
      "* * * \n",
      "* * * * \n",
      "* * * * * \n"
     ]
    }
   ],
   "source": [
    "num= int(5)\n",
    "for i in range(1,num+1):\n",
    "    for j in range(1,i+1):\n",
    "        print(\"*\",end=\" \")\n",
    "    print()"
   ]
  },
  {
   "cell_type": "code",
   "execution_count": 2,
   "id": "3ab3fd80-5f47-4195-87e7-be222b273db4",
   "metadata": {},
   "outputs": [
    {
     "name": "stdin",
     "output_type": "stream",
     "text": [
      "Enter the number of the Rows: 4\n"
     ]
    },
    {
     "name": "stdout",
     "output_type": "stream",
     "text": [
      "* \n",
      "* * \n",
      "* * * \n",
      "* * * * \n"
     ]
    }
   ],
   "source": [
    "num = int(input(\"Enter the number of the Rows:\"))\n",
    "for i in range(1,num+1):\n",
    "    for j in range(1,i+1):\n",
    "        print(\"*\",end=\" \")\n",
    "    print()"
   ]
  },
  {
   "cell_type": "code",
   "execution_count": 3,
   "id": "826adaa5-5ff3-4596-8c5c-2644bf6bb7ea",
   "metadata": {},
   "outputs": [
    {
     "name": "stdout",
     "output_type": "stream",
     "text": [
      "* \n",
      "* * \n",
      "* * * \n",
      "* * * * \n",
      "* * * * * \n",
      "* * * * * * \n"
     ]
    }
   ],
   "source": [
    "num = int(6)\n",
    "for i in range(1,num+1):\n",
    "    for j in range(1,i+1):\n",
    "        print(\"*\",end=\" \")\n",
    "    print()"
   ]
  },
  {
   "cell_type": "code",
   "execution_count": 4,
   "id": "f31dd405-4d6c-4af0-923c-77e8a52ae95f",
   "metadata": {},
   "outputs": [
    {
     "name": "stdout",
     "output_type": "stream",
     "text": [
      "* \n",
      "* * \n",
      "* * * \n",
      "* * * * \n",
      "* * * * * \n",
      "* * * * * * \n",
      "* * * * * * * \n",
      "* * * * * * * * \n",
      "* * * * * * * * * \n",
      "* * * * * * * * * * \n"
     ]
    }
   ],
   "source": [
    "num = int(10)\n",
    "for i in range(1,num+1):\n",
    "    for j in range(1,i+1):\n",
    "        print(\"*\",end=\" \")\n",
    "    print()"
   ]
  },
  {
   "cell_type": "code",
   "execution_count": 5,
   "id": "4e531a91-d605-488e-91e1-15e46b855f60",
   "metadata": {},
   "outputs": [
    {
     "name": "stdin",
     "output_type": "stream",
     "text": [
      "enter the number of rows: 4\n"
     ]
    },
    {
     "name": "stdout",
     "output_type": "stream",
     "text": [
      "*\n",
      "***\n",
      "*****\n",
      "*******\n"
     ]
    }
   ],
   "source": [
    "num = int(input(\"enter the number of rows:\"))\n",
    "a=1\n",
    "for i in range(1,num+1):\n",
    "    for j in range(1,a+1):\n",
    "        print(\"*\",end=\"\")\n",
    "    a=a+2\n",
    "    print()\n"
   ]
  },
  {
   "cell_type": "code",
   "execution_count": 6,
   "id": "2e0619d0-6f59-49e5-9bf6-39b9e30f275d",
   "metadata": {},
   "outputs": [
    {
     "name": "stdout",
     "output_type": "stream",
     "text": [
      "* \n",
      "* * * \n",
      "* * * * * \n"
     ]
    }
   ],
   "source": [
    "no = int(3)\n",
    "a = 1\n",
    "for i in range(1,no+1):\n",
    "    for i in range(1,a+1):\n",
    "        print(\"*\",end=\" \")\n",
    "    a=a+2\n",
    "    print()"
   ]
  },
  {
   "cell_type": "code",
   "execution_count": 7,
   "id": "b2e5d2da-c0d9-438a-b75c-1213a60a0f41",
   "metadata": {},
   "outputs": [
    {
     "name": "stdout",
     "output_type": "stream",
     "text": [
      "* \n",
      "* * \n",
      "* * * \n",
      "* * * * \n",
      "* * * * * \n"
     ]
    }
   ],
   "source": [
    "num = int(5)\n",
    "for i in range(1,num+1):\n",
    "    for j in range(1,i+1):\n",
    "        print(\"*\",end=\" \")\n",
    "    print()"
   ]
  },
  {
   "cell_type": "code",
   "execution_count": 8,
   "id": "e57deac0-2567-4819-a23e-9d3ea175b786",
   "metadata": {},
   "outputs": [
    {
     "name": "stdout",
     "output_type": "stream",
     "text": [
      "* \n",
      "* * * \n",
      "* * * * * \n"
     ]
    }
   ],
   "source": [
    "aniket = int(3)\n",
    "a = 1\n",
    "for i in range(1,aniket+1):\n",
    "    for j in range(1,a+1):\n",
    "        print(\"*\",end=\" \")\n",
    "    a=a+2\n",
    "    print()"
   ]
  },
  {
   "cell_type": "code",
   "execution_count": 9,
   "id": "3bb6ebc9-fca4-4375-8b9d-f185abece35d",
   "metadata": {},
   "outputs": [
    {
     "name": "stdout",
     "output_type": "stream",
     "text": [
      "* \n",
      "* * \n",
      "* * * \n",
      "* * * * \n",
      "* * * * * \n"
     ]
    }
   ],
   "source": [
    "num = int(5)\n",
    "for i in range(1,num+1):\n",
    "    for j in range(1,i+1):\n",
    "        print(\"*\",end=\" \")\n",
    "    print()\n",
    "        "
   ]
  },
  {
   "cell_type": "code",
   "execution_count": 10,
   "id": "eaeb8f39-a6be-41b5-8b8c-ad3e4e5ff2a5",
   "metadata": {},
   "outputs": [
    {
     "name": "stdout",
     "output_type": "stream",
     "text": [
      "1 \n",
      "1 1 1 \n",
      "1 1 1 1 1 \n"
     ]
    }
   ],
   "source": [
    "num = int(3)\n",
    "a=1\n",
    "for i in range(1,num+1):\n",
    "    for j in range(1,a+1):\n",
    "        print(\"1\",end=\" \")\n",
    "    a=a+2\n",
    "    print()"
   ]
  },
  {
   "cell_type": "code",
   "execution_count": 11,
   "id": "9dd104a0-dec6-4034-9f7a-6ee63d941e09",
   "metadata": {},
   "outputs": [
    {
     "name": "stdout",
     "output_type": "stream",
     "text": [
      "    * \n",
      "   * * \n",
      "  * * * \n",
      " * * * * \n",
      "* * * * * \n"
     ]
    }
   ],
   "source": [
    "num = int(5)\n",
    "for i in range(0,num):\n",
    "    for j in range(0,num-i-1):\n",
    "        print(end=\" \")\n",
    "    for j in range(0,i+1):\n",
    "        print(\"*\",end=\" \")\n",
    "    print()"
   ]
  },
  {
   "cell_type": "code",
   "execution_count": 12,
   "id": "2efd0cfc-7ab2-4301-af44-b709c9611751",
   "metadata": {},
   "outputs": [
    {
     "name": "stdout",
     "output_type": "stream",
     "text": [
      "    * \n",
      "   * * \n",
      "  * * * \n",
      " * * * * \n",
      "* * * * * \n"
     ]
    }
   ],
   "source": [
    "num = int(5)\n",
    "for i in range(0,num):\n",
    "    for j in range(0,num-i-1):\n",
    "        print(end=\" \")\n",
    "    for j in range(0,i+1):\n",
    "        print(\"*\",end=\" \")\n",
    "    print()"
   ]
  },
  {
   "cell_type": "code",
   "execution_count": 13,
   "id": "bbb7fb85-714a-4599-a17b-10e4271edbd2",
   "metadata": {},
   "outputs": [
    {
     "name": "stdout",
     "output_type": "stream",
     "text": [
      "    * \n",
      "   * * \n",
      "  * * * \n",
      " * * * * \n",
      "* * * * * \n"
     ]
    }
   ],
   "source": [
    "num = int(5)\n",
    "for i in range(0,num):\n",
    "    for j in range(0,num-i-1):\n",
    "        print(end=\" \")\n",
    "    for j in range(0,i+1):\n",
    "        print(\"*\",end=\" \")\n",
    "    print()"
   ]
  },
  {
   "cell_type": "code",
   "execution_count": 14,
   "id": "3cc662a3-9239-4bc0-846e-e86348f41e7c",
   "metadata": {},
   "outputs": [
    {
     "name": "stdout",
     "output_type": "stream",
     "text": [
      "* \n",
      "* * \n",
      "* * * \n"
     ]
    }
   ],
   "source": [
    "num = int(3)\n",
    "a=2\n",
    "for i in range(1,num+1):\n",
    "    for j in range(1,i+1):\n",
    "        print(\"*\",end=\" \")\n",
    "    a=a+2\n",
    "    print()"
   ]
  },
  {
   "cell_type": "code",
   "execution_count": 15,
   "id": "61656dee-b333-4e88-852f-96a41e999bef",
   "metadata": {},
   "outputs": [
    {
     "name": "stdout",
     "output_type": "stream",
     "text": [
      "* \n",
      "* * \n",
      "* * * \n",
      "* * * * \n",
      "* * * * * \n"
     ]
    }
   ],
   "source": [
    "num = int(5)\n",
    "for i in range(1,num+1):\n",
    "    for j in range(1,i+1):\n",
    "        print(\"*\",end=\" \")\n",
    "    print()\n",
    "    \n"
   ]
  },
  {
   "cell_type": "code",
   "execution_count": 16,
   "id": "c80eb763-cc30-4303-bdae-def1468ef074",
   "metadata": {},
   "outputs": [
    {
     "name": "stdout",
     "output_type": "stream",
     "text": [
      "    * \n",
      "   * * \n",
      "  * * * \n",
      " * * * * \n",
      "* * * * * \n"
     ]
    }
   ],
   "source": [
    "num = int(5)\n",
    "for i in range(0,num):\n",
    "    for j in range(0,num-i-1):\n",
    "        print(end=\" \")\n",
    "    for j in range(0,i+1):\n",
    "        print(\"*\",end=\" \")\n",
    "    print()"
   ]
  },
  {
   "cell_type": "code",
   "execution_count": 50,
   "id": "f096e28e-83f6-4aae-9cc6-329311c3be8b",
   "metadata": {},
   "outputs": [
    {
     "name": "stdout",
     "output_type": "stream",
     "text": [
      "* * * * \n",
      " * * * \n",
      "  * * \n",
      "   * \n"
     ]
    }
   ],
   "source": [
    "num = int(4)\n",
    "for i in range(num,0,-1):\n",
    "    for j in range(0,num-i):\n",
    "        print(end=\" \")\n",
    "    for j in range(0,i):\n",
    "        print(\"*\",end=\" \")\n",
    "    print()"
   ]
  },
  {
   "cell_type": "code",
   "execution_count": 56,
   "id": "acfb3ccc-5f5b-450f-a2d7-2dfecaef5deb",
   "metadata": {},
   "outputs": [
    {
     "name": "stdout",
     "output_type": "stream",
     "text": [
      "* * * * \n",
      " * * * \n",
      "  * * \n",
      "   * \n"
     ]
    }
   ],
   "source": [
    "num = int(4)\n",
    "for i in range(num,0,-1):\n",
    "    for j in range(0,num-i):\n",
    "        print(end=\" \")\n",
    "    for j in range(0,i):\n",
    "        print(\"*\",end=\" \")\n",
    "    print()"
   ]
  },
  {
   "cell_type": "code",
   "execution_count": 67,
   "id": "fc191bc4-4354-4c5c-acc9-23e1f9fd9011",
   "metadata": {},
   "outputs": [
    {
     "name": "stdout",
     "output_type": "stream",
     "text": [
      "* * * * \n",
      " * * * \n",
      "  * * \n",
      "   * \n"
     ]
    }
   ],
   "source": [
    "num = int(4)\n",
    "for i in range(num,0,-1):\n",
    "    for j in range(0,num-i):\n",
    "        print(end=\" \")\n",
    "    for j in range(0,i):\n",
    "        print(\"*\",end=\" \")\n",
    "    print()"
   ]
  },
  {
   "cell_type": "code",
   "execution_count": 71,
   "id": "13087681-938c-474c-9e2f-693fd5556f9e",
   "metadata": {},
   "outputs": [
    {
     "name": "stdout",
     "output_type": "stream",
     "text": [
      "* * * * * \n",
      "* * * * \n",
      "* * * \n",
      "* * \n",
      "* \n"
     ]
    }
   ],
   "source": [
    "num = int(5)\n",
    "for i in range(num,0,-1):\n",
    "    for j in range(0,i):\n",
    "        print(\"*\",end=\" \")\n",
    "    print()"
   ]
  },
  {
   "cell_type": "code",
   "execution_count": 75,
   "id": "5f0ee186-fec4-4f61-9062-30791aef732a",
   "metadata": {},
   "outputs": [
    {
     "name": "stdout",
     "output_type": "stream",
     "text": [
      "* * * * * \n",
      "* * * * \n",
      "* * * \n",
      "* * \n",
      "* \n"
     ]
    }
   ],
   "source": [
    "num = int(5)\n",
    "for i in range(num,0,-i):\n",
    "    for j in range(0,i):\n",
    "        print(\"*\",end=\" \")\n",
    "    print()"
   ]
  },
  {
   "cell_type": "code",
   "execution_count": null,
   "id": "ae5c8610-001b-42b3-8391-0c4232272567",
   "metadata": {},
   "outputs": [],
   "source": []
  },
  {
   "cell_type": "code",
   "execution_count": 7,
   "id": "583d1377-b85d-45d9-8a48-0263947bfb03",
   "metadata": {},
   "outputs": [
    {
     "name": "stdin",
     "output_type": "stream",
     "text": [
      "Enter the number: 10\n"
     ]
    },
    {
     "name": "stdout",
     "output_type": "stream",
     "text": [
      "10...is even\n"
     ]
    }
   ],
   "source": [
    "num = int(input(\"Enter the number:\"))\n",
    "if num%2==0:\n",
    "    print(\"{}...is even\".format(num))\n",
    "else:\n",
    "    print(\"{}..is odd\".format(num))"
   ]
  },
  {
   "cell_type": "code",
   "execution_count": 15,
   "id": "7a13c23f-b522-4565-8f8a-fbe052093575",
   "metadata": {},
   "outputs": [
    {
     "name": "stdin",
     "output_type": "stream",
     "text": [
      "Enter the number: 11\n"
     ]
    },
    {
     "name": "stdout",
     "output_type": "stream",
     "text": [
      "11...is odd number\n"
     ]
    }
   ],
   "source": [
    "num = int(input(\"Enter the number:\"))\n",
    "if num%2==0:\n",
    "    print(\"{}...is even number\".format(num))\n",
    "else:\n",
    "    print(\"{}...is odd number\".format(num))"
   ]
  },
  {
   "cell_type": "code",
   "execution_count": 19,
   "id": "47083485-a55b-4e43-94df-b45be705c987",
   "metadata": {},
   "outputs": [
    {
     "name": "stdout",
     "output_type": "stream",
     "text": [
      "* \n",
      "* * \n",
      "* * * \n",
      "* * * * \n",
      "* * * * * \n",
      "* * * * * * \n"
     ]
    }
   ],
   "source": [
    "num = int(6)\n",
    "for i in range(1,num+1):\n",
    "    for j in range(1,i+1):\n",
    "        print(\"*\",end=\" \")\n",
    "    print()"
   ]
  },
  {
   "cell_type": "code",
   "execution_count": 25,
   "id": "03ef68d5-2fcb-4b22-9197-0c96ac24575b",
   "metadata": {},
   "outputs": [
    {
     "name": "stdout",
     "output_type": "stream",
     "text": [
      "* \n",
      "* * * \n",
      "* * * * * \n",
      "* * * * * * * \n",
      "* * * * * * * * * \n"
     ]
    }
   ],
   "source": [
    "num = int(5)\n",
    "a=1\n",
    "for i in range(1,num+1):\n",
    "    for j in range(1,a+1):\n",
    "        print(\"*\",end=\" \")\n",
    "    a=a+2\n",
    "    print()"
   ]
  },
  {
   "cell_type": "code",
   "execution_count": 33,
   "id": "36e50aac-13dc-4e5f-93d7-ccc94dae5013",
   "metadata": {},
   "outputs": [
    {
     "name": "stdout",
     "output_type": "stream",
     "text": [
      "    * \n",
      "   * * \n",
      "  * * * \n",
      " * * * * \n",
      "* * * * * \n"
     ]
    }
   ],
   "source": [
    "num = int(5)\n",
    "for i in range(0,num):\n",
    "    for j in range(0,num-i-1):\n",
    "        print(end=\" \")\n",
    "    for j in range(0,i+1):\n",
    "        print(\"*\",end=\" \")\n",
    "    print()"
   ]
  },
  {
   "cell_type": "code",
   "execution_count": 41,
   "id": "a67ddb20-bb30-4cba-bf3b-94697afe0484",
   "metadata": {},
   "outputs": [
    {
     "name": "stdout",
     "output_type": "stream",
     "text": [
      "     * \n",
      "    * * \n",
      "   * * * \n",
      "  * * * * \n",
      " * * * * * \n",
      "* * * * * * \n"
     ]
    }
   ],
   "source": [
    "num = int(6)\n",
    "for i in range(0,num):\n",
    "    for j in range(0,num-i-1):\n",
    "        print(end=\" \")\n",
    "    for j in range(0,i+1):\n",
    "        print(\"*\",end=\" \")\n",
    "    print()"
   ]
  },
  {
   "cell_type": "code",
   "execution_count": 49,
   "id": "f5ba80aa-4bac-4286-88ec-1e7398fc48db",
   "metadata": {},
   "outputs": [
    {
     "name": "stdout",
     "output_type": "stream",
     "text": [
      "* * * * * \n",
      " * * * * \n",
      "  * * * \n",
      "   * * \n",
      "    * \n"
     ]
    }
   ],
   "source": [
    "num = int(5)\n",
    "for i in range(num,0,-1):\n",
    "    for j in range(0,num-i):\n",
    "        print(end=\" \")\n",
    "    for j in range(0,i):\n",
    "        print(\"*\",end=\" \")\n",
    "    print()"
   ]
  },
  {
   "cell_type": "code",
   "execution_count": 51,
   "id": "96b3e832-2f24-4d81-b3a4-2cabb2fb2e96",
   "metadata": {},
   "outputs": [
    {
     "name": "stdout",
     "output_type": "stream",
     "text": [
      "* * * * * \n",
      "* * * * \n",
      "* * * \n",
      "* * \n",
      "* \n"
     ]
    }
   ],
   "source": [
    "no = int(5)\n",
    "for i in range(num,0,-1):\n",
    "    for j in range(0,i):\n",
    "        print(\"*\",end=\" \")\n",
    "    print()"
   ]
  },
  {
   "cell_type": "code",
   "execution_count": null,
   "id": "24166335-254d-47a6-8922-5e82b4dd7a3b",
   "metadata": {},
   "outputs": [],
   "source": [
    "#palindrome program"
   ]
  },
  {
   "cell_type": "code",
   "execution_count": 7,
   "id": "8d7d60d0-53dd-4e98-9976-19031851fb0e",
   "metadata": {},
   "outputs": [
    {
     "name": "stdin",
     "output_type": "stream",
     "text": [
      "Enter the number : 1122\n"
     ]
    },
    {
     "name": "stdout",
     "output_type": "stream",
     "text": [
      "No it is not palindrome\n"
     ]
    }
   ],
   "source": [
    "num = input(\"Enter the number :\")\n",
    "reverse = num[::-1]\n",
    "if (num == reverse):\n",
    "    print(\"Yes it is palindrome\")\n",
    "else:\n",
    "    print(\"No it is not palindrome\")"
   ]
  },
  {
   "cell_type": "code",
   "execution_count": 19,
   "id": "43d7ae29-e5d4-47fa-a67e-1c2d7f35f902",
   "metadata": {},
   "outputs": [
    {
     "name": "stdin",
     "output_type": "stream",
     "text": [
      "Enter the number : 111\n"
     ]
    },
    {
     "name": "stdout",
     "output_type": "stream",
     "text": [
      "Yes it is palindrome number\n"
     ]
    }
   ],
   "source": [
    "aniket  = input(\"Enter the number :\")\n",
    "reverse = aniket[::-1]\n",
    "if (aniket == reverse):\n",
    "    print(\"Yes it is palindrome number\")\n",
    "else:\n",
    "    print(\"No it is not palindrome number\")"
   ]
  },
  {
   "cell_type": "code",
   "execution_count": 23,
   "id": "24d0f745-ada8-4235-bf0b-519ab699c090",
   "metadata": {},
   "outputs": [
    {
     "name": "stdin",
     "output_type": "stream",
     "text": [
      "Enter the number : 111\n"
     ]
    },
    {
     "name": "stdout",
     "output_type": "stream",
     "text": [
      "palindrom number\n"
     ]
    }
   ],
   "source": [
    "s = input(\"Enter the number :\")\n",
    "reverse = s[::-1]\n",
    "if (reverse == s):\n",
    "    print(\"palindrom number\")\n",
    "else:\n",
    "    print(\"not palindrome number\")"
   ]
  },
  {
   "cell_type": "code",
   "execution_count": 27,
   "id": "80993c66-d586-48b7-934a-3d0f4d44a050",
   "metadata": {},
   "outputs": [
    {
     "name": "stdin",
     "output_type": "stream",
     "text": [
      "Enter the number:  121\n"
     ]
    },
    {
     "name": "stdout",
     "output_type": "stream",
     "text": [
      "Is a palindrome number\n"
     ]
    }
   ],
   "source": [
    "# A palindrome number is a number that reads the same forward and backward, or when its digits are reversed\n",
    "# पॅलिंड्रोम संख्या ही अशी संख्या आहे जी समान पुढे आणि मागे वाचते किंवा जेव्हा त्याचे अंक उलटे असतात.\n",
    "\n",
    "sameer = input(\"Enter the number: \")\n",
    "reverse = sameer[::-1]\n",
    "if (reverse == sameer):\n",
    "    print(\"Is a palindrome number\")\n",
    "else:\n",
    "    print(\"Is not palindrome number\")"
   ]
  },
  {
   "cell_type": "code",
   "execution_count": null,
   "id": "8ab2dcb7-8f1f-42a8-9818-d6d60f7e0a29",
   "metadata": {},
   "outputs": [],
   "source": []
  },
  {
   "cell_type": "code",
   "execution_count": null,
   "id": "0041c247-788b-4fb6-9966-663931088985",
   "metadata": {},
   "outputs": [],
   "source": []
  },
  {
   "cell_type": "code",
   "execution_count": null,
   "id": "6d2113a8-603c-4b83-a6da-307286000ab3",
   "metadata": {},
   "outputs": [],
   "source": []
  },
  {
   "cell_type": "code",
   "execution_count": null,
   "id": "e5cbe6db-3913-4062-b8ff-2d25fbcffa28",
   "metadata": {},
   "outputs": [],
   "source": []
  },
  {
   "cell_type": "code",
   "execution_count": null,
   "id": "f7af4a23-62f5-45d0-bd84-11bc9c3d1287",
   "metadata": {},
   "outputs": [],
   "source": []
  },
  {
   "cell_type": "code",
   "execution_count": null,
   "id": "76377686-4c99-4151-9558-ea2db7254b2c",
   "metadata": {},
   "outputs": [],
   "source": []
  },
  {
   "cell_type": "code",
   "execution_count": null,
   "id": "a92a29d6-bbb4-4e09-95e0-70192edaba88",
   "metadata": {},
   "outputs": [],
   "source": []
  },
  {
   "cell_type": "code",
   "execution_count": null,
   "id": "88e8b88a-2509-4ef7-ba61-8b3450f3a767",
   "metadata": {},
   "outputs": [],
   "source": []
  },
  {
   "cell_type": "code",
   "execution_count": null,
   "id": "ad43300e-80d8-4d2d-9c6d-159063697178",
   "metadata": {},
   "outputs": [],
   "source": []
  },
  {
   "cell_type": "code",
   "execution_count": null,
   "id": "e38f1583-922e-4e43-b286-629a07acc29d",
   "metadata": {},
   "outputs": [],
   "source": []
  },
  {
   "cell_type": "code",
   "execution_count": null,
   "id": "8985faa8-59da-46d4-84dc-5225cef04aec",
   "metadata": {},
   "outputs": [],
   "source": []
  },
  {
   "cell_type": "code",
   "execution_count": null,
   "id": "a9d58213-1702-4c35-b3bd-9d446a0f9a26",
   "metadata": {},
   "outputs": [],
   "source": []
  },
  {
   "cell_type": "code",
   "execution_count": null,
   "id": "00a6b653-f978-4533-8a3e-1727107d82a9",
   "metadata": {},
   "outputs": [],
   "source": []
  },
  {
   "cell_type": "code",
   "execution_count": null,
   "id": "19a298c8-a2b9-463e-8b24-250e7cbfb352",
   "metadata": {},
   "outputs": [],
   "source": []
  },
  {
   "cell_type": "code",
   "execution_count": null,
   "id": "a2a67bb8-79f8-4f5a-9d88-4cb28350c9b7",
   "metadata": {},
   "outputs": [],
   "source": []
  },
  {
   "cell_type": "code",
   "execution_count": null,
   "id": "03c459c0-8fc9-43a6-af8d-6753b2139769",
   "metadata": {},
   "outputs": [],
   "source": []
  },
  {
   "cell_type": "code",
   "execution_count": null,
   "id": "65938a3b-06bd-48ec-8018-9b99c5867b72",
   "metadata": {},
   "outputs": [],
   "source": []
  },
  {
   "cell_type": "code",
   "execution_count": null,
   "id": "8cc59371-1f71-4f82-a7a8-8ea689a53256",
   "metadata": {},
   "outputs": [],
   "source": []
  },
  {
   "cell_type": "code",
   "execution_count": null,
   "id": "292db59e-32cf-42d6-8838-b000c86934f2",
   "metadata": {},
   "outputs": [],
   "source": []
  },
  {
   "cell_type": "code",
   "execution_count": null,
   "id": "53f48f8b-6ed5-47f1-9f25-5dcd4c5bd60a",
   "metadata": {},
   "outputs": [],
   "source": []
  },
  {
   "cell_type": "code",
   "execution_count": null,
   "id": "9f96ff74-b719-4075-ab5d-22e2cbc79731",
   "metadata": {},
   "outputs": [],
   "source": []
  },
  {
   "cell_type": "code",
   "execution_count": null,
   "id": "c4bcf7a6-9cf5-4156-a1b9-9ba01c2946cb",
   "metadata": {},
   "outputs": [],
   "source": []
  },
  {
   "cell_type": "code",
   "execution_count": null,
   "id": "bd7fd4a8-eb58-40e5-9b46-5ffbd9510486",
   "metadata": {},
   "outputs": [],
   "source": []
  },
  {
   "cell_type": "code",
   "execution_count": null,
   "id": "ffe4b1c5-99a7-4588-88b9-3234444ea596",
   "metadata": {},
   "outputs": [],
   "source": []
  },
  {
   "cell_type": "code",
   "execution_count": null,
   "id": "96f7039e-625a-417a-b165-a92b35af3caa",
   "metadata": {},
   "outputs": [],
   "source": []
  },
  {
   "cell_type": "code",
   "execution_count": null,
   "id": "e7231fd0-b00b-4b58-92fc-346b2fb9ae8e",
   "metadata": {},
   "outputs": [],
   "source": []
  }
 ],
 "metadata": {
  "kernelspec": {
   "display_name": "Python 3 (ipykernel)",
   "language": "python",
   "name": "python3"
  },
  "language_info": {
   "codemirror_mode": {
    "name": "ipython",
    "version": 3
   },
   "file_extension": ".py",
   "mimetype": "text/x-python",
   "name": "python",
   "nbconvert_exporter": "python",
   "pygments_lexer": "ipython3",
   "version": "3.11.7"
  }
 },
 "nbformat": 4,
 "nbformat_minor": 5
}
