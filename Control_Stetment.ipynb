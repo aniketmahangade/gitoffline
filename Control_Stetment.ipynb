{
 "cells": [
  {
   "cell_type": "code",
   "execution_count": null,
   "id": "c6603393-6953-4b6b-94ef-e7ac4efb5caf",
   "metadata": {},
   "outputs": [],
   "source": [
    "#Control statment in python:-\n",
    "        Control statements in Python are used to manage the flow of execution within a program."
   ]
  },
  {
   "cell_type": "code",
   "execution_count": null,
   "id": "e926a31b-71ae-493c-ba60-717c9be1ac85",
   "metadata": {},
   "outputs": [],
   "source": [
    "# There are four type of control stetment\n",
    "    1.simple if\n",
    "    2.if-else\n",
    "    3.if-else ladder\n",
    "    4.nested if-else"
   ]
  },
  {
   "cell_type": "code",
   "execution_count": null,
   "id": "6861dd7e-a9ae-4089-af7e-de6214ffa99f",
   "metadata": {},
   "outputs": [],
   "source": [
    "1.simple if:"
   ]
  },
  {
   "cell_type": "code",
   "execution_count": 7,
   "id": "6d1f28ee-c01d-4bde-a1f8-59c653111a18",
   "metadata": {},
   "outputs": [
    {
     "name": "stdout",
     "output_type": "stream",
     "text": [
      "Hello\n",
      "a is grater than b !\n",
      "welcome\n",
      "end\n"
     ]
    }
   ],
   "source": [
    "a = 10\n",
    "print(\"Hello\")\n",
    "if a>1:\n",
    "    print(\"a is grater than b !\")\n",
    "print(\"welcome\")\n",
    "print(\"end\")"
   ]
  },
  {
   "cell_type": "code",
   "execution_count": 32,
   "id": "ee5ab807-90cd-4203-89c3-f1e93686ff84",
   "metadata": {},
   "outputs": [
    {
     "name": "stdin",
     "output_type": "stream",
     "text": [
      "Enter the number:  8\n"
     ]
    },
    {
     "name": "stdout",
     "output_type": "stream",
     "text": [
      "welcome to user..\n",
      " Thank you ! of entering the page\n",
      "its ok\n",
      "defoult value\n"
     ]
    }
   ],
   "source": [
    "s = 10\n",
    "p = int(input(\"Enter the number: \"))\n",
    "print(\"welcome to user..\")\n",
    "if s>p:\n",
    "    print(\" Thank you ! of entering the page\")\n",
    "print(\"its ok\")\n",
    "print(\"defoult value\")"
   ]
  },
  {
   "cell_type": "code",
   "execution_count": 50,
   "id": "165e2e62-981d-4acf-bb7d-5642ce1f533b",
   "metadata": {},
   "outputs": [
    {
     "name": "stdin",
     "output_type": "stream",
     "text": [
      " Enter the nubmer:  10\n"
     ]
    },
    {
     "name": "stdout",
     "output_type": "stream",
     "text": [
      "Welcome\n",
      "Oo Thaks ! you are welcome in a programm\n",
      "Thek you\n",
      "end of the programm\n"
     ]
    }
   ],
   "source": [
    "a = 12\n",
    "aniket = int(input(\" Enter the nubmer: \"))\n",
    "print(\"Welcome\")\n",
    "if a>aniket:\n",
    "    print(\"Oo Thaks ! you are welcome in a programm\")\n",
    "print(\"Thek you\")\n",
    "print(\"end of the programm\")"
   ]
  },
  {
   "cell_type": "code",
   "execution_count": null,
   "id": "e3951aa4-1d24-41f5-a144-7b9bbbee8dd3",
   "metadata": {},
   "outputs": [],
   "source": []
  },
  {
   "cell_type": "code",
   "execution_count": null,
   "id": "2c46da7e-d6af-47cf-9065-13a1c7502b90",
   "metadata": {},
   "outputs": [],
   "source": [
    "2.if-else:"
   ]
  },
  {
   "cell_type": "code",
   "execution_count": 62,
   "id": "6d0c8993-1105-47d4-95e1-be100ce12141",
   "metadata": {},
   "outputs": [
    {
     "name": "stdin",
     "output_type": "stream",
     "text": [
      "Enter the nubmer:  14\n"
     ]
    },
    {
     "name": "stdout",
     "output_type": "stream",
     "text": [
      "you are entering the user\n",
      "Thank you..!\n"
     ]
    }
   ],
   "source": [
    "a = 15\n",
    "aniket = int(input(\"Enter the nubmer: \"))\n",
    "if a>aniket:\n",
    "    print(\"you are entering the user\")\n",
    "else:\n",
    "    print(\"Better luck next time\")\n",
    "print(\"Thank you..!\")"
   ]
  },
  {
   "cell_type": "code",
   "execution_count": 76,
   "id": "89b0a336-79f8-4cff-8b08-3ba5b4bae9eb",
   "metadata": {},
   "outputs": [
    {
     "name": "stdin",
     "output_type": "stream",
     "text": [
      "Enter the number:  192\n"
     ]
    },
    {
     "name": "stdout",
     "output_type": "stream",
     "text": [
      "Enter a profile page\n",
      "Thek You..!\n"
     ]
    }
   ],
   "source": [
    "p = 100\n",
    "sam = int(input(\"Enter the number: \"))\n",
    "if p<sam:\n",
    "    print(\"Enter a profile page\")\n",
    "else:\n",
    "    print(\"Not enter the profile page\")\n",
    "print(\"Thek You..!\")"
   ]
  },
  {
   "cell_type": "code",
   "execution_count": 82,
   "id": "8abdff8a-c2de-4e73-9a92-9aa0eea03b97",
   "metadata": {},
   "outputs": [
    {
     "name": "stdin",
     "output_type": "stream",
     "text": [
      "Enter the Age in blck:  22\n"
     ]
    },
    {
     "name": "stdout",
     "output_type": "stream",
     "text": [
      "Your age is 22 and you are eiligible for voting \n",
      "Thak you..!\n"
     ]
    }
   ],
   "source": [
    "age = int(input(\"Enter the Age in blck: \"))\n",
    "if age>18:\n",
    "    print(\"Your age is {} and you are eiligible for voting \".format(age))\n",
    "else:\n",
    "    print(\"Your age is {} you not eiligible in voting\".format(age))\n",
    "print(\"Thak you..!\")"
   ]
  },
  {
   "cell_type": "code",
   "execution_count": 104,
   "id": "2b6053d3-3013-4c2b-b6f9-57cf1fb8f7dd",
   "metadata": {},
   "outputs": [
    {
     "name": "stdin",
     "output_type": "stream",
     "text": [
      "Enter the Age for inbox:  22\n"
     ]
    },
    {
     "name": "stdout",
     "output_type": "stream",
     "text": [
      "Your age is 22 for a vote\n",
      "Thank You\n"
     ]
    }
   ],
   "source": [
    "age = int(input(\"Enter the Age for inbox: \"))\n",
    "if 18<age:\n",
    "    print(\"Your age is {} for a vote\".format(age))\n",
    "else:\n",
    "    print(\"your age is {} year,please wait \".format(age))\n",
    "print(\"Thank You\")"
   ]
  },
  {
   "cell_type": "code",
   "execution_count": null,
   "id": "d7039d8b-3223-4e4d-8be1-ee06b009977d",
   "metadata": {},
   "outputs": [],
   "source": []
  },
  {
   "cell_type": "code",
   "execution_count": null,
   "id": "2a2af4a2-49b7-4de1-b548-37f8dd1cb6ae",
   "metadata": {},
   "outputs": [],
   "source": [
    "3.if-else ladder:"
   ]
  },
  {
   "cell_type": "code",
   "execution_count": 116,
   "id": "fe88ce9f-6c80-41dc-8bf5-14a32f921885",
   "metadata": {},
   "outputs": [
    {
     "name": "stdin",
     "output_type": "stream",
     "text": [
      "Enter the name:  asdfa\n"
     ]
    },
    {
     "name": "stdout",
     "output_type": "stream",
     "text": [
      "Invalid File..!\n"
     ]
    }
   ],
   "source": [
    "aniket = input(\"Enter the name: \")\n",
    "if aniket.endswith(\".csv\"):\n",
    "    print(\"csv file prosessing....\")\n",
    "elif aniket.endswith(\".exle\"):\n",
    "    print(\"exle file processing....\")\n",
    "elif aniket.endswith(\".pdf\"):\n",
    "    print(\"pdf file prosessing.....\")\n",
    "else:\n",
    "    print(\"Invalid File..!\")"
   ]
  },
  {
   "cell_type": "code",
   "execution_count": 126,
   "id": "ae936332-00a6-4043-be94-50cedd982d2f",
   "metadata": {},
   "outputs": [
    {
     "name": "stdin",
     "output_type": "stream",
     "text": [
      "Enter the file name:  silver\n"
     ]
    },
    {
     "name": "stdout",
     "output_type": "stream",
     "text": [
      "silver file are prosessing....\n",
      "Thak you\n"
     ]
    }
   ],
   "source": [
    "int = input(\"Enter the file name: \")\n",
    "if int.startswith(\"copper\"):\n",
    "    print(\"copper file are prosessing....\")\n",
    "elif int.startswith(\"gold\"):\n",
    "    print(\"gold file are prosessing....\")\n",
    "elif int.startswith(\"silver\"):\n",
    "    print(\"silver file are prosessing....\")\n",
    "else:\n",
    "    print(\"Invalid file..! Please Enter Again\")\n",
    "print(\"Thak you\")"
   ]
  },
  {
   "cell_type": "code",
   "execution_count": null,
   "id": "546d5419-5b95-4363-a703-a804bc992aac",
   "metadata": {},
   "outputs": [],
   "source": [
    "======================================================================================================"
   ]
  },
  {
   "cell_type": "code",
   "execution_count": 140,
   "id": "5f36f16e-ca4a-4ca6-a266-4d280dc77593",
   "metadata": {},
   "outputs": [
    {
     "name": "stdin",
     "output_type": "stream",
     "text": [
      " Enter the email id : ainexus@gmail.com\n"
     ]
    },
    {
     "name": "stdout",
     "output_type": "stream",
     "text": [
      "Email are sucusefully link\n",
      "Thank You\n"
     ]
    }
   ],
   "source": [
    "id = input(\" Enter the email id :\")\n",
    "if id.endswith(\"@gmail.com\"):\n",
    "    print(\"Email are sucusefully link\")\n",
    "elif id.startswith(\"mahangadeaniket\"):\n",
    "    print(\"Thaks for entering the your email\")\n",
    "elif id.startswith(\"ainexus\"):\n",
    "    print(\"Welcome to AI NEXUS institute\")\n",
    "else:\n",
    "    print(\"Plaese Enter valid email id!\")\n",
    "print(\"Thank You\")"
   ]
  },
  {
   "cell_type": "code",
   "execution_count": null,
   "id": "cc5d8d06-8068-4076-b023-568012449530",
   "metadata": {},
   "outputs": [],
   "source": [
    "======================================================================================================"
   ]
  },
  {
   "cell_type": "code",
   "execution_count": 176,
   "id": "51b20688-ba49-462c-b70a-200846f62252",
   "metadata": {},
   "outputs": [
    {
     "name": "stdin",
     "output_type": "stream",
     "text": [
      "Enter the email id : \n"
     ]
    },
    {
     "name": "stdout",
     "output_type": "stream",
     "text": [
      "your  Email id in Invalid pleas enter new email !\n",
      "Thank You\n"
     ]
    }
   ],
   "source": [
    "id = input(\"Enter the email id :\")\n",
    "if id.startswith(\"test\"):\n",
    "    print(\"your {} Email id is sucusefully link.you are join a grup\".format(id))\n",
    "elif id.startswith(\"mahangadeaniket\"):\n",
    "    print(\"your {} Email id is sucusefully link.you are join a grup\".format(id))\n",
    "elif id.startswith(\"ainexus\"):\n",
    "    print(\"your {} Email id is sucusefully link.you are join a grup\".format(id))\n",
    "else:\n",
    "    print(\"your {} Email id in Invalid pleas enter new email !\".format(id))\n",
    "print(\"Thank You\")  "
   ]
  },
  {
   "cell_type": "code",
   "execution_count": null,
   "id": "4906b91f-bd2b-446d-bd5c-16cac53d903c",
   "metadata": {},
   "outputs": [],
   "source": []
  },
  {
   "cell_type": "code",
   "execution_count": null,
   "id": "aa7fc641-e0aa-454d-8156-d4bea3ff7e15",
   "metadata": {},
   "outputs": [],
   "source": [
    "4.nested if-else:"
   ]
  },
  {
   "cell_type": "code",
   "execution_count": 217,
   "id": "fe63adfd-ee2a-46d9-b806-3c4b8c7419f0",
   "metadata": {},
   "outputs": [
    {
     "name": "stdin",
     "output_type": "stream",
     "text": [
      "Enter the admin name:  admin\n",
      "Enter the admin password:  aniket\n"
     ]
    },
    {
     "name": "stdout",
     "output_type": "stream",
     "text": [
      "Weak password. Please reset your password.\n"
     ]
    }
   ],
   "source": [
    "username = input(\"Enter the admin name: \")\n",
    "password = input(\"Enter the admin password: \")\n",
    "if username == \"admin\":\n",
    "    if password == \"password\":\n",
    "        print(\"login successful! Welcome, admin.\")\n",
    "    elif password == \"aniket\":\n",
    "        print(\"Weak password. Please reset your password.\")\n",
    "    else:\n",
    "        print(\"thak you\")\n"
   ]
  },
  {
   "cell_type": "code",
   "execution_count": 308,
   "id": "d7457656-716a-48fb-b3cf-80e4073f97c5",
   "metadata": {},
   "outputs": [
    {
     "name": "stdin",
     "output_type": "stream",
     "text": [
      "Enter the School name:  gold\n",
      "Enter the formate:  .pdf\n"
     ]
    },
    {
     "name": "stdout",
     "output_type": "stream",
     "text": [
      "gold.pdf file processing..\n"
     ]
    }
   ],
   "source": [
    "filename = input(\"Enter the School name: \")\n",
    "fileformate = input(\"Enter the formate: \")\n",
    "if filename == \"copper\":\n",
    "    if fileformate == \".exle\":\n",
    "        print(\"{} file prosessing..\".format(filename+fileformate))\n",
    "    elif fileformate == \".pdf\":\n",
    "        print(\"{} file processing..\".format(filename+fileformate))\n",
    "    elif fileformate == \".csv\":\n",
    "        print(\"{} file processing..\".format(filename+fileformate))\n",
    "    else:\n",
    "        print(\"Invalid File Formate !\")\n",
    "if filename == \"gold\":\n",
    "    if fileformate == \".exle\":\n",
    "        print(\"{} file prosessing..\".format(filename+fileformate))\n",
    "    elif fileformate == \".pdf\":\n",
    "        print(\"{} file processing..\".format(filename+fileformate))\n",
    "    elif fileformate == \".csv\":\n",
    "        print(\"{} file processing..\".format(filename+fileformate))\n",
    "    else:\n",
    "        print(\"Invalid File Formate !\")\n",
    "if filename == \"boxite\":\n",
    "    if fileformate == \".exle\":\n",
    "        print(\"{} file prosessing..\".format(filename+fileformate))\n",
    "    elif fileformate == \".pdf\":\n",
    "        print(\"{} file processing..\".format(filename+fileformate))\n",
    "    elif fileformate == \".csv\":\n",
    "        print(\"{} file processing..\".format(filename+fileformate))\n",
    "    else:\n",
    "        print(\"Invalid File Formate !\")"
   ]
  },
  {
   "cell_type": "code",
   "execution_count": null,
   "id": "dba3d64e-4712-40ea-9b4b-e252e3ef1aab",
   "metadata": {},
   "outputs": [],
   "source": []
  },
  {
   "cell_type": "code",
   "execution_count": null,
   "id": "1b27b103-060c-4f19-9b1f-54eb32b2ba38",
   "metadata": {},
   "outputs": [],
   "source": []
  },
  {
   "cell_type": "code",
   "execution_count": null,
   "id": "a526b314-e4f9-4537-905e-d860a407ac81",
   "metadata": {},
   "outputs": [],
   "source": []
  },
  {
   "cell_type": "code",
   "execution_count": null,
   "id": "7bd2c8d9-fccc-4a63-9a27-8c9b996d90d7",
   "metadata": {},
   "outputs": [],
   "source": []
  },
  {
   "cell_type": "code",
   "execution_count": null,
   "id": "f2229e0b-9f41-4c3a-a315-6a24e3d298e4",
   "metadata": {},
   "outputs": [],
   "source": []
  },
  {
   "cell_type": "code",
   "execution_count": null,
   "id": "98ded5c7-57a2-43f3-b122-e32450a0393e",
   "metadata": {},
   "outputs": [],
   "source": []
  },
  {
   "cell_type": "code",
   "execution_count": null,
   "id": "e2f20948-388f-4f4a-9602-e2dbfcef6c4e",
   "metadata": {},
   "outputs": [],
   "source": []
  },
  {
   "cell_type": "code",
   "execution_count": null,
   "id": "08a9da12-a901-41de-b15e-119997d106a6",
   "metadata": {},
   "outputs": [],
   "source": []
  },
  {
   "cell_type": "code",
   "execution_count": null,
   "id": "2be3ba8e-6f8f-4bc5-b872-42f40a14ad4a",
   "metadata": {},
   "outputs": [],
   "source": []
  },
  {
   "cell_type": "code",
   "execution_count": null,
   "id": "a4270b68-d107-487e-8ab1-54bff3349a16",
   "metadata": {},
   "outputs": [],
   "source": []
  },
  {
   "cell_type": "code",
   "execution_count": null,
   "id": "74c6a78a-89ef-495d-854e-905d1a4b8b9d",
   "metadata": {},
   "outputs": [],
   "source": []
  },
  {
   "cell_type": "code",
   "execution_count": null,
   "id": "b11e51b2-3793-4b99-8be5-9a95cf10020b",
   "metadata": {},
   "outputs": [],
   "source": []
  },
  {
   "cell_type": "code",
   "execution_count": null,
   "id": "96f478e8-c146-4ede-8b44-375919c8a5fe",
   "metadata": {},
   "outputs": [],
   "source": []
  },
  {
   "cell_type": "code",
   "execution_count": null,
   "id": "bcea0672-2b76-4667-80ad-d0a06aa3ed02",
   "metadata": {},
   "outputs": [],
   "source": []
  },
  {
   "cell_type": "code",
   "execution_count": null,
   "id": "9432cbcd-e5ad-4495-81d3-2a161d7bb6f1",
   "metadata": {},
   "outputs": [],
   "source": []
  },
  {
   "cell_type": "code",
   "execution_count": null,
   "id": "0381f7fa-5ead-40a4-8924-03d43eb3b531",
   "metadata": {},
   "outputs": [],
   "source": []
  },
  {
   "cell_type": "code",
   "execution_count": null,
   "id": "bfeae805-9f47-4796-a409-029d60673fb8",
   "metadata": {},
   "outputs": [],
   "source": []
  },
  {
   "cell_type": "code",
   "execution_count": null,
   "id": "a4c39214-ab3e-4a35-9a4f-90a9b8bac677",
   "metadata": {},
   "outputs": [],
   "source": []
  },
  {
   "cell_type": "code",
   "execution_count": null,
   "id": "fe8cef66-f302-48e7-ad8a-cdf567fe4ddf",
   "metadata": {},
   "outputs": [],
   "source": []
  },
  {
   "cell_type": "code",
   "execution_count": null,
   "id": "810a94ed-0b79-4895-9729-19eb36d4a07c",
   "metadata": {},
   "outputs": [],
   "source": []
  }
 ],
 "metadata": {
  "kernelspec": {
   "display_name": "Python 3 (ipykernel)",
   "language": "python",
   "name": "python3"
  },
  "language_info": {
   "codemirror_mode": {
    "name": "ipython",
    "version": 3
   },
   "file_extension": ".py",
   "mimetype": "text/x-python",
   "name": "python",
   "nbconvert_exporter": "python",
   "pygments_lexer": "ipython3",
   "version": "3.11.7"
  }
 },
 "nbformat": 4,
 "nbformat_minor": 5
}
