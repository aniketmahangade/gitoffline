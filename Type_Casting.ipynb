{
 "cells": [
  {
   "cell_type": "code",
   "execution_count": null,
   "id": "68ca6dfe-161b-4710-9bce-894aeb7836f6",
   "metadata": {},
   "outputs": [],
   "source": [
    "#type casting:-\n",
    "            \"\"\"    Type Casting is the method to convert the Python variable datatype \n",
    "                   into a certain data type in order to perform the required operation by users  \"\"\""
   ]
  },
  {
   "cell_type": "code",
   "execution_count": null,
   "id": "a2bde773-cddb-4ded-be25-ad68957156ea",
   "metadata": {},
   "outputs": [],
   "source": [
    "1.list to tuple"
   ]
  },
  {
   "cell_type": "code",
   "execution_count": 1,
   "id": "4a828154-3ea8-489a-88df-4c90ba717c46",
   "metadata": {},
   "outputs": [],
   "source": [
    "a = [12,23,34,45]"
   ]
  },
  {
   "cell_type": "code",
   "execution_count": 3,
   "id": "8f174f3a-a821-466d-b830-c3adae925abf",
   "metadata": {},
   "outputs": [],
   "source": [
    "a = tuple(a)"
   ]
  },
  {
   "cell_type": "code",
   "execution_count": 5,
   "id": "21575863-887f-4982-a747-62df0d2498e4",
   "metadata": {},
   "outputs": [
    {
     "data": {
      "text/plain": [
       "(12, 23, 34, 45)"
      ]
     },
     "execution_count": 5,
     "metadata": {},
     "output_type": "execute_result"
    }
   ],
   "source": [
    "a"
   ]
  },
  {
   "cell_type": "code",
   "execution_count": null,
   "id": "cd37e51e-0c05-4b3c-b2bd-dd7ed2a81f41",
   "metadata": {},
   "outputs": [],
   "source": [
    "2.tuple to list"
   ]
  },
  {
   "cell_type": "code",
   "execution_count": 7,
   "id": "804a7227-c260-49ee-995f-d105af53174f",
   "metadata": {},
   "outputs": [],
   "source": [
    "b = (232,34,45,67,34,\"python\")"
   ]
  },
  {
   "cell_type": "code",
   "execution_count": 9,
   "id": "1aa50502-8b32-4e7f-9ff3-cb84f384eca0",
   "metadata": {},
   "outputs": [],
   "source": [
    "b = list(b)"
   ]
  },
  {
   "cell_type": "code",
   "execution_count": 11,
   "id": "d10ae1e5-543f-4e16-a32e-b38cefa3411e",
   "metadata": {},
   "outputs": [
    {
     "data": {
      "text/plain": [
       "[232, 34, 45, 67, 34, 'python']"
      ]
     },
     "execution_count": 11,
     "metadata": {},
     "output_type": "execute_result"
    }
   ],
   "source": [
    "b"
   ]
  },
  {
   "cell_type": "code",
   "execution_count": null,
   "id": "b9e9cb44-31d8-416e-9b75-499a5e9e8d87",
   "metadata": {},
   "outputs": [],
   "source": [
    "b."
   ]
  },
  {
   "cell_type": "code",
   "execution_count": null,
   "id": "473bac18-dd9c-4724-a60f-e5ce9ee5bba1",
   "metadata": {},
   "outputs": [],
   "source": [
    "3.set to string"
   ]
  },
  {
   "cell_type": "code",
   "execution_count": 19,
   "id": "9be24e5a-54a7-475a-bc00-c0850271c317",
   "metadata": {},
   "outputs": [],
   "source": [
    "c = {23,34,45,56,23}"
   ]
  },
  {
   "cell_type": "code",
   "execution_count": 24,
   "id": "16853a7d-8047-4456-b602-859a99018499",
   "metadata": {},
   "outputs": [],
   "source": [
    "c = str(c)"
   ]
  },
  {
   "cell_type": "code",
   "execution_count": 26,
   "id": "4962be37-4db4-43fe-a458-ff4c599357f8",
   "metadata": {},
   "outputs": [
    {
     "data": {
      "text/plain": [
       "'{56, 34, 45, 23}'"
      ]
     },
     "execution_count": 26,
     "metadata": {},
     "output_type": "execute_result"
    }
   ],
   "source": [
    "c"
   ]
  },
  {
   "cell_type": "code",
   "execution_count": null,
   "id": "7f127434-9fc0-4177-9073-0b6b116a21d3",
   "metadata": {},
   "outputs": [],
   "source": [
    "4.string to set"
   ]
  },
  {
   "cell_type": "code",
   "execution_count": 28,
   "id": "82465036-2645-4fe1-97b4-cbf6f3b2ecca",
   "metadata": {},
   "outputs": [],
   "source": [
    "d = \"my name is aniket\""
   ]
  },
  {
   "cell_type": "code",
   "execution_count": 30,
   "id": "54fd5eb7-e473-47e1-9279-03a78bcaf755",
   "metadata": {},
   "outputs": [],
   "source": [
    "d  = set(d)"
   ]
  },
  {
   "cell_type": "code",
   "execution_count": 32,
   "id": "7179d0be-75dd-4498-a21a-56494df87edb",
   "metadata": {},
   "outputs": [
    {
     "data": {
      "text/plain": [
       "{' ', 'a', 'e', 'i', 'k', 'm', 'n', 's', 't', 'y'}"
      ]
     },
     "execution_count": 32,
     "metadata": {},
     "output_type": "execute_result"
    }
   ],
   "source": [
    "d"
   ]
  },
  {
   "cell_type": "code",
   "execution_count": null,
   "id": "c1ac9d2a-e69c-4293-932f-8ac5d53b4a8e",
   "metadata": {},
   "outputs": [],
   "source": [
    "5.dic to list"
   ]
  },
  {
   "cell_type": "code",
   "execution_count": 34,
   "id": "4f220d69-1fba-4629-bb3f-6a3d3d93e27e",
   "metadata": {},
   "outputs": [],
   "source": [
    "e = {'id':100,'name':'aniket','sal':12000}"
   ]
  },
  {
   "cell_type": "code",
   "execution_count": 51,
   "id": "d80d2bbf-33cb-449b-bac4-a23c65c63d36",
   "metadata": {},
   "outputs": [],
   "source": [
    "e = list(e)"
   ]
  },
  {
   "cell_type": "code",
   "execution_count": 53,
   "id": "632fc54e-ee98-4048-8f22-c9ed68b512a2",
   "metadata": {},
   "outputs": [
    {
     "data": {
      "text/plain": [
       "['id', 'name', 'sal']"
      ]
     },
     "execution_count": 53,
     "metadata": {},
     "output_type": "execute_result"
    }
   ],
   "source": [
    "e"
   ]
  },
  {
   "cell_type": "code",
   "execution_count": null,
   "id": "908d78da-a570-421c-9003-56ae517b4d14",
   "metadata": {},
   "outputs": [],
   "source": [
    "6.list to dic"
   ]
  },
  {
   "cell_type": "code",
   "execution_count": 63,
   "id": "0c2682a9-1ec0-4304-b9cf-ee65d7a85142",
   "metadata": {},
   "outputs": [],
   "source": [
    "f = [23,123,23,34]"
   ]
  },
  {
   "cell_type": "code",
   "execution_count": 65,
   "id": "b4a0bacf-bb3d-446d-a521-70b3dcb82703",
   "metadata": {},
   "outputs": [
    {
     "ename": "NameError",
     "evalue": "name 'dic' is not defined",
     "output_type": "error",
     "traceback": [
      "\u001b[1;31m---------------------------------------------------------------------------\u001b[0m",
      "\u001b[1;31mNameError\u001b[0m                                 Traceback (most recent call last)",
      "Cell \u001b[1;32mIn[65], line 1\u001b[0m\n\u001b[1;32m----> 1\u001b[0m f \u001b[38;5;241m=\u001b[39m dic(f)\n",
      "\u001b[1;31mNameError\u001b[0m: name 'dic' is not defined"
     ]
    }
   ],
   "source": [
    "f = dic(f)"
   ]
  },
  {
   "cell_type": "code",
   "execution_count": null,
   "id": "556e1619-5bbf-4e00-9c32-e774acdfdd84",
   "metadata": {},
   "outputs": [],
   "source": [
    "7.string to list"
   ]
  },
  {
   "cell_type": "code",
   "execution_count": 68,
   "id": "53866ce9-91bf-43a4-950d-7d348d87d14c",
   "metadata": {},
   "outputs": [],
   "source": [
    "g = \"servive in it company is not esey\""
   ]
  },
  {
   "cell_type": "code",
   "execution_count": 70,
   "id": "5d0ab956-bb06-40cb-bb81-e88243b00049",
   "metadata": {},
   "outputs": [],
   "source": [
    "g= list(g)"
   ]
  },
  {
   "cell_type": "code",
   "execution_count": 72,
   "id": "7f5d2a23-4f97-4a77-a35d-fbd2da2efa6c",
   "metadata": {},
   "outputs": [
    {
     "data": {
      "text/plain": [
       "['s',\n",
       " 'e',\n",
       " 'r',\n",
       " 'v',\n",
       " 'i',\n",
       " 'v',\n",
       " 'e',\n",
       " ' ',\n",
       " 'i',\n",
       " 'n',\n",
       " ' ',\n",
       " 'i',\n",
       " 't',\n",
       " ' ',\n",
       " 'c',\n",
       " 'o',\n",
       " 'm',\n",
       " 'p',\n",
       " 'a',\n",
       " 'n',\n",
       " 'y',\n",
       " ' ',\n",
       " 'i',\n",
       " 's',\n",
       " ' ',\n",
       " 'n',\n",
       " 'o',\n",
       " 't',\n",
       " ' ',\n",
       " 'e',\n",
       " 's',\n",
       " 'e',\n",
       " 'y']"
      ]
     },
     "execution_count": 72,
     "metadata": {},
     "output_type": "execute_result"
    }
   ],
   "source": [
    "g"
   ]
  },
  {
   "cell_type": "code",
   "execution_count": null,
   "id": "db797ec7-e909-4c42-b7b7-b943160e6c28",
   "metadata": {},
   "outputs": [],
   "source": [
    "8.string to set"
   ]
  },
  {
   "cell_type": "code",
   "execution_count": 74,
   "id": "610ef564-a602-4348-a4f4-50b9722ba97a",
   "metadata": {},
   "outputs": [],
   "source": [
    "h = \"askdfjksjdfaksjdf\""
   ]
  },
  {
   "cell_type": "code",
   "execution_count": 80,
   "id": "09e83dd9-0368-4a80-b122-eb650788f663",
   "metadata": {},
   "outputs": [],
   "source": [
    "h= set(h)"
   ]
  },
  {
   "cell_type": "code",
   "execution_count": 82,
   "id": "5b9e7b76-2d29-4d37-adbb-38664e96c6ad",
   "metadata": {},
   "outputs": [
    {
     "data": {
      "text/plain": [
       "{'a', 'd', 'f', 'j', 'k', 's'}"
      ]
     },
     "execution_count": 82,
     "metadata": {},
     "output_type": "execute_result"
    }
   ],
   "source": [
    "h"
   ]
  },
  {
   "cell_type": "code",
   "execution_count": null,
   "id": "d95741bf-38f0-47f5-80f3-b7e9872d33e2",
   "metadata": {},
   "outputs": [],
   "source": [
    "# interviwe quistion"
   ]
  },
  {
   "cell_type": "code",
   "execution_count": null,
   "id": "0f1606f6-f649-4aeb-a785-373c14341288",
   "metadata": {},
   "outputs": [],
   "source": [
    "1.can we define list inside tuple or voice versa?\n",
    "ans:- Yes,origanal property remain same\n",
    "Example:-"
   ]
  },
  {
   "cell_type": "code",
   "execution_count": 84,
   "id": "24732823-99ee-44fb-92b5-1a838d2ee44c",
   "metadata": {},
   "outputs": [],
   "source": [
    "l = [123,234,4545,6567,5734,53]"
   ]
  },
  {
   "cell_type": "code",
   "execution_count": 86,
   "id": "c4e71761-afd0-4c12-b8ae-51e1e0b88ef4",
   "metadata": {},
   "outputs": [],
   "source": [
    "list = tuple(l)"
   ]
  },
  {
   "cell_type": "code",
   "execution_count": 90,
   "id": "1b3f18f2-e7cb-4785-998e-24b9da00d40a",
   "metadata": {},
   "outputs": [
    {
     "data": {
      "text/plain": [
       "(123, 234, 4545, 6567, 5734, 53)"
      ]
     },
     "execution_count": 90,
     "metadata": {},
     "output_type": "execute_result"
    }
   ],
   "source": [
    "list"
   ]
  },
  {
   "cell_type": "code",
   "execution_count": null,
   "id": "03506742-bf64-4ba6-b093-a472a89e8cb5",
   "metadata": {},
   "outputs": [],
   "source": [
    "2.can we insert/update/delete new elements in to tuple?\n",
    "ans:- No,but you can use type casting to insert/delete/update\n",
    "Example:-"
   ]
  },
  {
   "cell_type": "code",
   "execution_count": 92,
   "id": "7ecd4241-729f-4def-90d5-629ac4e7faa8",
   "metadata": {},
   "outputs": [],
   "source": [
    "t = ('aniket','sumit','sameer')"
   ]
  },
  {
   "cell_type": "code",
   "execution_count": 94,
   "id": "7616c8aa-8dac-4a80-956a-1cde8eb4d13e",
   "metadata": {},
   "outputs": [
    {
     "data": {
      "text/plain": [
       "tuple"
      ]
     },
     "execution_count": 94,
     "metadata": {},
     "output_type": "execute_result"
    }
   ],
   "source": [
    "type(t)"
   ]
  },
  {
   "cell_type": "code",
   "execution_count": 104,
   "id": "7eab50c5-107b-4b13-b4f3-6de653a5573c",
   "metadata": {},
   "outputs": [],
   "source": [
    "new = set(t)"
   ]
  },
  {
   "cell_type": "code",
   "execution_count": 112,
   "id": "dc62a857-f16b-4011-bcbb-ca1cd76d30df",
   "metadata": {},
   "outputs": [
    {
     "data": {
      "text/plain": [
       "set"
      ]
     },
     "execution_count": 112,
     "metadata": {},
     "output_type": "execute_result"
    }
   ],
   "source": [
    "type(new)"
   ]
  },
  {
   "cell_type": "code",
   "execution_count": 118,
   "id": "c2ad565d-cde4-4897-b1d2-b6521e39f47f",
   "metadata": {},
   "outputs": [],
   "source": [
    "new.add('kiran')"
   ]
  },
  {
   "cell_type": "code",
   "execution_count": 120,
   "id": "20da9556-536f-4de3-bdfc-c4982f682a0b",
   "metadata": {},
   "outputs": [
    {
     "data": {
      "text/plain": [
       "{'aniket', 'kiran', 'sameer', 'sumit'}"
      ]
     },
     "execution_count": 120,
     "metadata": {},
     "output_type": "execute_result"
    }
   ],
   "source": [
    "new"
   ]
  },
  {
   "cell_type": "code",
   "execution_count": null,
   "id": "13104489-d929-41d7-b70c-70f1cfaf7fde",
   "metadata": {},
   "outputs": [],
   "source": []
  },
  {
   "cell_type": "code",
   "execution_count": 122,
   "id": "dbae2daa-d232-4174-9361-cef7dfdd3cdc",
   "metadata": {},
   "outputs": [],
   "source": [
    "a = '10.5'"
   ]
  },
  {
   "cell_type": "code",
   "execution_count": 124,
   "id": "9d0f38b2-e9d2-4a01-bbd5-c22fdcc0b427",
   "metadata": {},
   "outputs": [
    {
     "data": {
      "text/plain": [
       "str"
      ]
     },
     "execution_count": 124,
     "metadata": {},
     "output_type": "execute_result"
    }
   ],
   "source": [
    "type(a)"
   ]
  },
  {
   "cell_type": "code",
   "execution_count": 126,
   "id": "8c84c57d-4e40-430f-83f2-09393d5cda51",
   "metadata": {},
   "outputs": [
    {
     "ename": "ValueError",
     "evalue": "invalid literal for int() with base 10: '10.5'",
     "output_type": "error",
     "traceback": [
      "\u001b[1;31m---------------------------------------------------------------------------\u001b[0m",
      "\u001b[1;31mValueError\u001b[0m                                Traceback (most recent call last)",
      "Cell \u001b[1;32mIn[126], line 1\u001b[0m\n\u001b[1;32m----> 1\u001b[0m a \u001b[38;5;241m=\u001b[39m \u001b[38;5;28mint\u001b[39m(a)\n",
      "\u001b[1;31mValueError\u001b[0m: invalid literal for int() with base 10: '10.5'"
     ]
    }
   ],
   "source": [
    "a = int(a)"
   ]
  },
  {
   "cell_type": "code",
   "execution_count": 130,
   "id": "cbf5703c-51c7-430d-8156-6871e5bef46b",
   "metadata": {},
   "outputs": [],
   "source": [
    "a = float(a)"
   ]
  },
  {
   "cell_type": "code",
   "execution_count": 132,
   "id": "c94c7126-c884-4524-8aa9-1e5a93f12815",
   "metadata": {},
   "outputs": [
    {
     "data": {
      "text/plain": [
       "float"
      ]
     },
     "execution_count": 132,
     "metadata": {},
     "output_type": "execute_result"
    }
   ],
   "source": [
    "type(a)"
   ]
  },
  {
   "cell_type": "code",
   "execution_count": 136,
   "id": "c1a6b51d-969a-4bb6-aecb-5beb981130d8",
   "metadata": {},
   "outputs": [],
   "source": [
    "a = int(a)"
   ]
  },
  {
   "cell_type": "code",
   "execution_count": 140,
   "id": "d038de60-e642-435f-b73d-f5d253fcf34c",
   "metadata": {},
   "outputs": [
    {
     "data": {
      "text/plain": [
       "10"
      ]
     },
     "execution_count": 140,
     "metadata": {},
     "output_type": "execute_result"
    }
   ],
   "source": [
    "a"
   ]
  },
  {
   "cell_type": "code",
   "execution_count": null,
   "id": "1d60c155-d1bc-4ab2-a18f-fbc3c265d684",
   "metadata": {},
   "outputs": [],
   "source": [
    "3.how to delete duplicate element in the list?\n",
    "ans :- we can use type casting ."
   ]
  },
  {
   "cell_type": "code",
   "execution_count": 147,
   "id": "8041ca43-7be5-42ae-b3dd-909bf40f3203",
   "metadata": {},
   "outputs": [],
   "source": [
    "aniket = [1,2,3,4,1,2,3,4,1,2,2,3,4,1,2,3,4,3,4,2,3,4,2,2,1,2,3,4]"
   ]
  },
  {
   "cell_type": "code",
   "execution_count": 149,
   "id": "d9778206-36e3-40e2-a52d-6ca6de6a1694",
   "metadata": {},
   "outputs": [],
   "source": [
    "aniket = set(aniket)"
   ]
  },
  {
   "cell_type": "code",
   "execution_count": 151,
   "id": "dfc24d0e-453a-46ae-8a58-568da2d8f078",
   "metadata": {},
   "outputs": [
    {
     "data": {
      "text/plain": [
       "{1, 2, 3, 4}"
      ]
     },
     "execution_count": 151,
     "metadata": {},
     "output_type": "execute_result"
    }
   ],
   "source": [
    "aniket"
   ]
  },
  {
   "cell_type": "code",
   "execution_count": 185,
   "id": "c0efb034-78ed-4066-a400-0a09a8cebcc4",
   "metadata": {},
   "outputs": [],
   "source": [
    "aniketq = (12,233,54,56)"
   ]
  },
  {
   "cell_type": "code",
   "execution_count": 191,
   "id": "b6a706fb-17bb-4e8e-b268-4340bfeb4039",
   "metadata": {},
   "outputs": [
    {
     "data": {
      "text/plain": [
       "frozenset({12, 54, 56, 233})"
      ]
     },
     "execution_count": 191,
     "metadata": {},
     "output_type": "execute_result"
    }
   ],
   "source": [
    "sumit = frozenset(aniketq)\n",
    "sumit"
   ]
  },
  {
   "cell_type": "code",
   "execution_count": 193,
   "id": "24df3492-f16f-4875-9468-3f2744112fde",
   "metadata": {},
   "outputs": [
    {
     "data": {
      "text/plain": [
       "frozenset"
      ]
     },
     "execution_count": 193,
     "metadata": {},
     "output_type": "execute_result"
    }
   ],
   "source": [
    "type(sumit)"
   ]
  },
  {
   "cell_type": "code",
   "execution_count": 195,
   "id": "97aed8a7-dfd2-4456-af2d-c4dd81204504",
   "metadata": {},
   "outputs": [
    {
     "data": {
      "text/plain": [
       "frozenset({12, 54, 56, 233})"
      ]
     },
     "execution_count": 195,
     "metadata": {},
     "output_type": "execute_result"
    }
   ],
   "source": [
    "sumit"
   ]
  },
  {
   "cell_type": "code",
   "execution_count": null,
   "id": "b8251119-83e3-4092-b186-2ecc77f817fb",
   "metadata": {},
   "outputs": [],
   "source": []
  },
  {
   "cell_type": "code",
   "execution_count": null,
   "id": "8362b0f5-fd38-4612-bbe0-1878a83ad193",
   "metadata": {},
   "outputs": [],
   "source": []
  },
  {
   "cell_type": "code",
   "execution_count": null,
   "id": "06ac2a58-c65a-45ed-a2d3-102c925cc65f",
   "metadata": {},
   "outputs": [],
   "source": []
  }
 ],
 "metadata": {
  "kernelspec": {
   "display_name": "Python 3 (ipykernel)",
   "language": "python",
   "name": "python3"
  },
  "language_info": {
   "codemirror_mode": {
    "name": "ipython",
    "version": 3
   },
   "file_extension": ".py",
   "mimetype": "text/x-python",
   "name": "python",
   "nbconvert_exporter": "python",
   "pygments_lexer": "ipython3",
   "version": "3.11.7"
  }
 },
 "nbformat": 4,
 "nbformat_minor": 5
}
